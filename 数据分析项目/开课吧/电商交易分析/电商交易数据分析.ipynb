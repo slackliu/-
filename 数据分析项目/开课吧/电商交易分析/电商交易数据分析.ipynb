{
 "cells": [
  {
   "cell_type": "code",
   "execution_count": 1,
   "metadata": {},
   "outputs": [],
   "source": [
    "import numpy as np\n",
    "import pandas as pd\n",
    "import matplotlib.pyplot as plt"
   ]
  },
  {
   "cell_type": "code",
   "execution_count": 2,
   "metadata": {},
   "outputs": [],
   "source": [
    "# 加载数据\n",
    "df = pd.read_csv(r'D:\\下载\\网盘\\1.视频\\9.项目实战\\课件\\项目\\order_info_2016.csv', index_col='id')"
   ]
  },
  {
   "cell_type": "code",
   "execution_count": 3,
   "metadata": {},
   "outputs": [
    {
     "data": {
      "text/html": [
       "<div>\n",
       "<style scoped>\n",
       "    .dataframe tbody tr th:only-of-type {\n",
       "        vertical-align: middle;\n",
       "    }\n",
       "\n",
       "    .dataframe tbody tr th {\n",
       "        vertical-align: top;\n",
       "    }\n",
       "\n",
       "    .dataframe thead th {\n",
       "        text-align: right;\n",
       "    }\n",
       "</style>\n",
       "<table border=\"1\" class=\"dataframe\">\n",
       "  <thead>\n",
       "    <tr style=\"text-align: right;\">\n",
       "      <th></th>\n",
       "      <th>orderId</th>\n",
       "      <th>userId</th>\n",
       "      <th>productId</th>\n",
       "      <th>cityId</th>\n",
       "      <th>price</th>\n",
       "      <th>payMoney</th>\n",
       "      <th>channelId</th>\n",
       "      <th>deviceType</th>\n",
       "      <th>createTime</th>\n",
       "      <th>payTime</th>\n",
       "    </tr>\n",
       "    <tr>\n",
       "      <th>id</th>\n",
       "      <th></th>\n",
       "      <th></th>\n",
       "      <th></th>\n",
       "      <th></th>\n",
       "      <th></th>\n",
       "      <th></th>\n",
       "      <th></th>\n",
       "      <th></th>\n",
       "      <th></th>\n",
       "      <th></th>\n",
       "    </tr>\n",
       "  </thead>\n",
       "  <tbody>\n",
       "    <tr>\n",
       "      <td>1</td>\n",
       "      <td>232148841</td>\n",
       "      <td>2794924</td>\n",
       "      <td>268</td>\n",
       "      <td>110001</td>\n",
       "      <td>35300</td>\n",
       "      <td>35300</td>\n",
       "      <td>9058255c90</td>\n",
       "      <td>3</td>\n",
       "      <td>2016-01-01 12:53:02</td>\n",
       "      <td>2016-01-01 12:53:24</td>\n",
       "    </tr>\n",
       "    <tr>\n",
       "      <td>2</td>\n",
       "      <td>222298971</td>\n",
       "      <td>1664684</td>\n",
       "      <td>801</td>\n",
       "      <td>330001</td>\n",
       "      <td>51200</td>\n",
       "      <td>49900</td>\n",
       "      <td>e0e6019897</td>\n",
       "      <td>2</td>\n",
       "      <td>2016-01-01 21:42:51</td>\n",
       "      <td>2016-01-01 21:43:30</td>\n",
       "    </tr>\n",
       "    <tr>\n",
       "      <td>3</td>\n",
       "      <td>211494392</td>\n",
       "      <td>2669372</td>\n",
       "      <td>934</td>\n",
       "      <td>220002</td>\n",
       "      <td>62100</td>\n",
       "      <td>62100</td>\n",
       "      <td>9058255c90</td>\n",
       "      <td>3</td>\n",
       "      <td>2016-01-01 14:10:13</td>\n",
       "      <td>2016-01-01 14:11:18</td>\n",
       "    </tr>\n",
       "    <tr>\n",
       "      <td>4</td>\n",
       "      <td>334575272</td>\n",
       "      <td>1924727</td>\n",
       "      <td>422</td>\n",
       "      <td>230001</td>\n",
       "      <td>50600</td>\n",
       "      <td>42000</td>\n",
       "      <td>46d5cea30d</td>\n",
       "      <td>2</td>\n",
       "      <td>2016-01-01 17:43:35</td>\n",
       "      <td>2016-01-01 17:43:53</td>\n",
       "    </tr>\n",
       "    <tr>\n",
       "      <td>5</td>\n",
       "      <td>144825651</td>\n",
       "      <td>4148671</td>\n",
       "      <td>473</td>\n",
       "      <td>130006</td>\n",
       "      <td>149100</td>\n",
       "      <td>142000</td>\n",
       "      <td>6ff1752b69</td>\n",
       "      <td>2</td>\n",
       "      <td>2016-01-01 18:52:04</td>\n",
       "      <td>2016-01-01 18:52:47</td>\n",
       "    </tr>\n",
       "  </tbody>\n",
       "</table>\n",
       "</div>"
      ],
      "text/plain": [
       "      orderId   userId  productId  cityId   price  payMoney   channelId  \\\n",
       "id                                                                        \n",
       "1   232148841  2794924        268  110001   35300     35300  9058255c90   \n",
       "2   222298971  1664684        801  330001   51200     49900  e0e6019897   \n",
       "3   211494392  2669372        934  220002   62100     62100  9058255c90   \n",
       "4   334575272  1924727        422  230001   50600     42000  46d5cea30d   \n",
       "5   144825651  4148671        473  130006  149100    142000  6ff1752b69   \n",
       "\n",
       "    deviceType           createTime              payTime  \n",
       "id                                                        \n",
       "1            3  2016-01-01 12:53:02  2016-01-01 12:53:24  \n",
       "2            2  2016-01-01 21:42:51  2016-01-01 21:43:30  \n",
       "3            3  2016-01-01 14:10:13  2016-01-01 14:11:18  \n",
       "4            2  2016-01-01 17:43:35  2016-01-01 17:43:53  \n",
       "5            2  2016-01-01 18:52:04  2016-01-01 18:52:47  "
      ]
     },
     "execution_count": 3,
     "metadata": {},
     "output_type": "execute_result"
    }
   ],
   "source": [
    "df.head()"
   ]
  },
  {
   "cell_type": "code",
   "execution_count": 4,
   "metadata": {},
   "outputs": [
    {
     "data": {
      "text/html": [
       "<div>\n",
       "<style scoped>\n",
       "    .dataframe tbody tr th:only-of-type {\n",
       "        vertical-align: middle;\n",
       "    }\n",
       "\n",
       "    .dataframe tbody tr th {\n",
       "        vertical-align: top;\n",
       "    }\n",
       "\n",
       "    .dataframe thead th {\n",
       "        text-align: right;\n",
       "    }\n",
       "</style>\n",
       "<table border=\"1\" class=\"dataframe\">\n",
       "  <thead>\n",
       "    <tr style=\"text-align: right;\">\n",
       "      <th></th>\n",
       "      <th>orderId</th>\n",
       "      <th>userId</th>\n",
       "      <th>productId</th>\n",
       "      <th>cityId</th>\n",
       "      <th>price</th>\n",
       "      <th>payMoney</th>\n",
       "      <th>deviceType</th>\n",
       "    </tr>\n",
       "  </thead>\n",
       "  <tbody>\n",
       "    <tr>\n",
       "      <td>count</td>\n",
       "      <td>1.045570e+05</td>\n",
       "      <td>1.045570e+05</td>\n",
       "      <td>104557.000000</td>\n",
       "      <td>104557.000000</td>\n",
       "      <td>1.045570e+05</td>\n",
       "      <td>1.045570e+05</td>\n",
       "      <td>104557.000000</td>\n",
       "    </tr>\n",
       "    <tr>\n",
       "      <td>mean</td>\n",
       "      <td>2.993341e+08</td>\n",
       "      <td>3.270527e+06</td>\n",
       "      <td>504.566275</td>\n",
       "      <td>154410.947225</td>\n",
       "      <td>9.167350e+04</td>\n",
       "      <td>8.686689e+04</td>\n",
       "      <td>2.385292</td>\n",
       "    </tr>\n",
       "    <tr>\n",
       "      <td>std</td>\n",
       "      <td>5.149818e+07</td>\n",
       "      <td>4.138208e+07</td>\n",
       "      <td>288.130647</td>\n",
       "      <td>72197.163762</td>\n",
       "      <td>9.158836e+04</td>\n",
       "      <td>9.072028e+04</td>\n",
       "      <td>0.648472</td>\n",
       "    </tr>\n",
       "    <tr>\n",
       "      <td>min</td>\n",
       "      <td>1.035627e+08</td>\n",
       "      <td>2.930600e+04</td>\n",
       "      <td>0.000000</td>\n",
       "      <td>30000.000000</td>\n",
       "      <td>6.000000e+02</td>\n",
       "      <td>-1.000000e+03</td>\n",
       "      <td>1.000000</td>\n",
       "    </tr>\n",
       "    <tr>\n",
       "      <td>25%</td>\n",
       "      <td>2.633627e+08</td>\n",
       "      <td>2.179538e+06</td>\n",
       "      <td>254.000000</td>\n",
       "      <td>100011.000000</td>\n",
       "      <td>3.790000e+04</td>\n",
       "      <td>3.360000e+04</td>\n",
       "      <td>2.000000</td>\n",
       "    </tr>\n",
       "    <tr>\n",
       "      <td>50%</td>\n",
       "      <td>2.989828e+08</td>\n",
       "      <td>2.705995e+06</td>\n",
       "      <td>507.000000</td>\n",
       "      <td>150001.000000</td>\n",
       "      <td>5.920000e+04</td>\n",
       "      <td>5.500000e+04</td>\n",
       "      <td>2.000000</td>\n",
       "    </tr>\n",
       "    <tr>\n",
       "      <td>75%</td>\n",
       "      <td>3.349972e+08</td>\n",
       "      <td>3.271237e+06</td>\n",
       "      <td>758.000000</td>\n",
       "      <td>220002.000000</td>\n",
       "      <td>1.080000e+05</td>\n",
       "      <td>1.040000e+05</td>\n",
       "      <td>3.000000</td>\n",
       "    </tr>\n",
       "    <tr>\n",
       "      <td>max</td>\n",
       "      <td>4.871430e+08</td>\n",
       "      <td>3.072939e+09</td>\n",
       "      <td>1000.000000</td>\n",
       "      <td>380001.000000</td>\n",
       "      <td>2.295600e+06</td>\n",
       "      <td>2.294200e+06</td>\n",
       "      <td>6.000000</td>\n",
       "    </tr>\n",
       "  </tbody>\n",
       "</table>\n",
       "</div>"
      ],
      "text/plain": [
       "            orderId        userId      productId         cityId         price  \\\n",
       "count  1.045570e+05  1.045570e+05  104557.000000  104557.000000  1.045570e+05   \n",
       "mean   2.993341e+08  3.270527e+06     504.566275  154410.947225  9.167350e+04   \n",
       "std    5.149818e+07  4.138208e+07     288.130647   72197.163762  9.158836e+04   \n",
       "min    1.035627e+08  2.930600e+04       0.000000   30000.000000  6.000000e+02   \n",
       "25%    2.633627e+08  2.179538e+06     254.000000  100011.000000  3.790000e+04   \n",
       "50%    2.989828e+08  2.705995e+06     507.000000  150001.000000  5.920000e+04   \n",
       "75%    3.349972e+08  3.271237e+06     758.000000  220002.000000  1.080000e+05   \n",
       "max    4.871430e+08  3.072939e+09    1000.000000  380001.000000  2.295600e+06   \n",
       "\n",
       "           payMoney     deviceType  \n",
       "count  1.045570e+05  104557.000000  \n",
       "mean   8.686689e+04       2.385292  \n",
       "std    9.072028e+04       0.648472  \n",
       "min   -1.000000e+03       1.000000  \n",
       "25%    3.360000e+04       2.000000  \n",
       "50%    5.500000e+04       2.000000  \n",
       "75%    1.040000e+05       3.000000  \n",
       "max    2.294200e+06       6.000000  "
      ]
     },
     "execution_count": 4,
     "metadata": {},
     "output_type": "execute_result"
    }
   ],
   "source": [
    "df.describe()"
   ]
  },
  {
   "cell_type": "code",
   "execution_count": 5,
   "metadata": {},
   "outputs": [
    {
     "data": {
      "text/html": [
       "<div>\n",
       "<style scoped>\n",
       "    .dataframe tbody tr th:only-of-type {\n",
       "        vertical-align: middle;\n",
       "    }\n",
       "\n",
       "    .dataframe tbody tr th {\n",
       "        vertical-align: top;\n",
       "    }\n",
       "\n",
       "    .dataframe thead th {\n",
       "        text-align: right;\n",
       "    }\n",
       "</style>\n",
       "<table border=\"1\" class=\"dataframe\">\n",
       "  <thead>\n",
       "    <tr style=\"text-align: right;\">\n",
       "      <th></th>\n",
       "      <th>id</th>\n",
       "      <th>deviceType</th>\n",
       "    </tr>\n",
       "  </thead>\n",
       "  <tbody>\n",
       "    <tr>\n",
       "      <td>0</td>\n",
       "      <td>1</td>\n",
       "      <td>PC</td>\n",
       "    </tr>\n",
       "    <tr>\n",
       "      <td>1</td>\n",
       "      <td>2</td>\n",
       "      <td>Android</td>\n",
       "    </tr>\n",
       "    <tr>\n",
       "      <td>2</td>\n",
       "      <td>3</td>\n",
       "      <td>iPhone</td>\n",
       "    </tr>\n",
       "    <tr>\n",
       "      <td>3</td>\n",
       "      <td>4</td>\n",
       "      <td>Wap</td>\n",
       "    </tr>\n",
       "    <tr>\n",
       "      <td>4</td>\n",
       "      <td>5</td>\n",
       "      <td>other</td>\n",
       "    </tr>\n",
       "  </tbody>\n",
       "</table>\n",
       "</div>"
      ],
      "text/plain": [
       "   id deviceType\n",
       "0   1         PC\n",
       "1   2    Android\n",
       "2   3     iPhone\n",
       "3   4        Wap\n",
       "4   5      other"
      ]
     },
     "execution_count": 5,
     "metadata": {},
     "output_type": "execute_result"
    }
   ],
   "source": [
    "# 加载device_type\n",
    "device_type = pd.read_csv(r'D:\\下载\\网盘\\1.视频\\9.项目实战\\课件\\项目\\device_type.txt')\n",
    "device_type"
   ]
  },
  {
   "cell_type": "code",
   "execution_count": 6,
   "metadata": {},
   "outputs": [
    {
     "name": "stdout",
     "output_type": "stream",
     "text": [
      "<class 'pandas.core.frame.DataFrame'>\n",
      "Int64Index: 104557 entries, 1 to 104557\n",
      "Data columns (total 10 columns):\n",
      "orderId       104557 non-null int64\n",
      "userId        104557 non-null int64\n",
      "productId     104557 non-null int64\n",
      "cityId        104557 non-null int64\n",
      "price         104557 non-null int64\n",
      "payMoney      104557 non-null int64\n",
      "channelId     104549 non-null object\n",
      "deviceType    104557 non-null int64\n",
      "createTime    104557 non-null object\n",
      "payTime       104557 non-null object\n",
      "dtypes: int64(7), object(3)\n",
      "memory usage: 8.8+ MB\n"
     ]
    }
   ],
   "source": [
    "df.info()"
   ]
  },
  {
   "cell_type": "code",
   "execution_count": 7,
   "metadata": {},
   "outputs": [
    {
     "data": {
      "text/plain": [
       "104530"
      ]
     },
     "execution_count": 7,
     "metadata": {},
     "output_type": "execute_result"
    }
   ],
   "source": [
    "df.orderId.unique().size"
   ]
  },
  {
   "cell_type": "code",
   "execution_count": 8,
   "metadata": {},
   "outputs": [
    {
     "data": {
      "text/plain": [
       "104557"
      ]
     },
     "execution_count": 8,
     "metadata": {},
     "output_type": "execute_result"
    }
   ],
   "source": [
    "df.orderId.size"
   ]
  },
  {
   "cell_type": "code",
   "execution_count": 9,
   "metadata": {},
   "outputs": [
    {
     "data": {
      "text/plain": [
       "104557"
      ]
     },
     "execution_count": 9,
     "metadata": {},
     "output_type": "execute_result"
    }
   ],
   "source": [
    "df.userId.size"
   ]
  },
  {
   "cell_type": "code",
   "execution_count": 10,
   "metadata": {},
   "outputs": [
    {
     "data": {
      "text/plain": [
       "331"
      ]
     },
     "execution_count": 10,
     "metadata": {},
     "output_type": "execute_result"
    }
   ],
   "source": [
    "df.cityId.unique().size"
   ]
  },
  {
   "cell_type": "code",
   "execution_count": 11,
   "metadata": {},
   "outputs": [],
   "source": [
    "df.price = df.price / 100"
   ]
  },
  {
   "cell_type": "code",
   "execution_count": 12,
   "metadata": {},
   "outputs": [
    {
     "data": {
      "text/html": [
       "<div>\n",
       "<style scoped>\n",
       "    .dataframe tbody tr th:only-of-type {\n",
       "        vertical-align: middle;\n",
       "    }\n",
       "\n",
       "    .dataframe tbody tr th {\n",
       "        vertical-align: top;\n",
       "    }\n",
       "\n",
       "    .dataframe thead th {\n",
       "        text-align: right;\n",
       "    }\n",
       "</style>\n",
       "<table border=\"1\" class=\"dataframe\">\n",
       "  <thead>\n",
       "    <tr style=\"text-align: right;\">\n",
       "      <th></th>\n",
       "      <th>orderId</th>\n",
       "      <th>userId</th>\n",
       "      <th>productId</th>\n",
       "      <th>cityId</th>\n",
       "      <th>price</th>\n",
       "      <th>payMoney</th>\n",
       "      <th>channelId</th>\n",
       "      <th>deviceType</th>\n",
       "      <th>createTime</th>\n",
       "      <th>payTime</th>\n",
       "    </tr>\n",
       "    <tr>\n",
       "      <th>id</th>\n",
       "      <th></th>\n",
       "      <th></th>\n",
       "      <th></th>\n",
       "      <th></th>\n",
       "      <th></th>\n",
       "      <th></th>\n",
       "      <th></th>\n",
       "      <th></th>\n",
       "      <th></th>\n",
       "      <th></th>\n",
       "    </tr>\n",
       "  </thead>\n",
       "  <tbody>\n",
       "    <tr>\n",
       "      <td>25344</td>\n",
       "      <td>288096069</td>\n",
       "      <td>2145955</td>\n",
       "      <td>511</td>\n",
       "      <td>230014</td>\n",
       "      <td>111.0</td>\n",
       "      <td>-1000</td>\n",
       "      <td>df9f79c426</td>\n",
       "      <td>2</td>\n",
       "      <td>2016-03-11 21:32:54</td>\n",
       "      <td>2016-03-11 21:33:10</td>\n",
       "    </tr>\n",
       "    <tr>\n",
       "      <td>55044</td>\n",
       "      <td>296608442</td>\n",
       "      <td>4073997</td>\n",
       "      <td>385</td>\n",
       "      <td>120006</td>\n",
       "      <td>111.0</td>\n",
       "      <td>-1000</td>\n",
       "      <td>cbccc0808e</td>\n",
       "      <td>2</td>\n",
       "      <td>2016-05-24 08:52:04</td>\n",
       "      <td>2016-05-24 08:52:23</td>\n",
       "    </tr>\n",
       "    <tr>\n",
       "      <td>66897</td>\n",
       "      <td>316685479</td>\n",
       "      <td>1949907</td>\n",
       "      <td>554</td>\n",
       "      <td>60019</td>\n",
       "      <td>2084.0</td>\n",
       "      <td>-1000</td>\n",
       "      <td>9058255c90</td>\n",
       "      <td>3</td>\n",
       "      <td>2016-03-31 11:57:46</td>\n",
       "      <td>2016-03-31 11:57:46</td>\n",
       "    </tr>\n",
       "    <tr>\n",
       "      <td>72556</td>\n",
       "      <td>323229098</td>\n",
       "      <td>2894042</td>\n",
       "      <td>548</td>\n",
       "      <td>220008</td>\n",
       "      <td>114.0</td>\n",
       "      <td>-1000</td>\n",
       "      <td>41a4e91d29</td>\n",
       "      <td>2</td>\n",
       "      <td>2016-08-09 14:24:13</td>\n",
       "      <td>2016-08-09 14:24:26</td>\n",
       "    </tr>\n",
       "    <tr>\n",
       "      <td>81494</td>\n",
       "      <td>311194385</td>\n",
       "      <td>3370399</td>\n",
       "      <td>797</td>\n",
       "      <td>40001</td>\n",
       "      <td>116.0</td>\n",
       "      <td>-990</td>\n",
       "      <td>ea5648bbe2</td>\n",
       "      <td>1</td>\n",
       "      <td>2016-09-06 11:20:43</td>\n",
       "      <td>2016-09-06 11:21:31</td>\n",
       "    </tr>\n",
       "    <tr>\n",
       "      <td>87878</td>\n",
       "      <td>324068352</td>\n",
       "      <td>1873953</td>\n",
       "      <td>602</td>\n",
       "      <td>260003</td>\n",
       "      <td>292.0</td>\n",
       "      <td>-1000</td>\n",
       "      <td>9058255c90</td>\n",
       "      <td>3</td>\n",
       "      <td>2016-10-05 10:47:05</td>\n",
       "      <td>2016-10-05 10:47:05</td>\n",
       "    </tr>\n",
       "  </tbody>\n",
       "</table>\n",
       "</div>"
      ],
      "text/plain": [
       "         orderId   userId  productId  cityId   price  payMoney   channelId  \\\n",
       "id                                                                           \n",
       "25344  288096069  2145955        511  230014   111.0     -1000  df9f79c426   \n",
       "55044  296608442  4073997        385  120006   111.0     -1000  cbccc0808e   \n",
       "66897  316685479  1949907        554   60019  2084.0     -1000  9058255c90   \n",
       "72556  323229098  2894042        548  220008   114.0     -1000  41a4e91d29   \n",
       "81494  311194385  3370399        797   40001   116.0      -990  ea5648bbe2   \n",
       "87878  324068352  1873953        602  260003   292.0     -1000  9058255c90   \n",
       "\n",
       "       deviceType           createTime              payTime  \n",
       "id                                                           \n",
       "25344           2  2016-03-11 21:32:54  2016-03-11 21:33:10  \n",
       "55044           2  2016-05-24 08:52:04  2016-05-24 08:52:23  \n",
       "66897           3  2016-03-31 11:57:46  2016-03-31 11:57:46  \n",
       "72556           2  2016-08-09 14:24:13  2016-08-09 14:24:26  \n",
       "81494           1  2016-09-06 11:20:43  2016-09-06 11:21:31  \n",
       "87878           3  2016-10-05 10:47:05  2016-10-05 10:47:05  "
      ]
     },
     "execution_count": 12,
     "metadata": {},
     "output_type": "execute_result"
    }
   ],
   "source": [
    "df[df.payMoney < 0]"
   ]
  },
  {
   "cell_type": "code",
   "execution_count": 13,
   "metadata": {},
   "outputs": [],
   "source": [
    "df.drop(index=df[df.payMoney < 0].index, inplace=True)"
   ]
  },
  {
   "cell_type": "code",
   "execution_count": 14,
   "metadata": {},
   "outputs": [
    {
     "data": {
      "text/plain": [
       "Int64Index([], dtype='int64', name='id')"
      ]
     },
     "execution_count": 14,
     "metadata": {},
     "output_type": "execute_result"
    }
   ],
   "source": [
    "df[df.payMoney < 0].index"
   ]
  },
  {
   "cell_type": "code",
   "execution_count": 15,
   "metadata": {},
   "outputs": [],
   "source": [
    "df.payMoney = df.payMoney / 100"
   ]
  },
  {
   "cell_type": "code",
   "execution_count": 16,
   "metadata": {},
   "outputs": [
    {
     "data": {
      "text/html": [
       "<div>\n",
       "<style scoped>\n",
       "    .dataframe tbody tr th:only-of-type {\n",
       "        vertical-align: middle;\n",
       "    }\n",
       "\n",
       "    .dataframe tbody tr th {\n",
       "        vertical-align: top;\n",
       "    }\n",
       "\n",
       "    .dataframe thead th {\n",
       "        text-align: right;\n",
       "    }\n",
       "</style>\n",
       "<table border=\"1\" class=\"dataframe\">\n",
       "  <thead>\n",
       "    <tr style=\"text-align: right;\">\n",
       "      <th></th>\n",
       "      <th>orderId</th>\n",
       "      <th>userId</th>\n",
       "      <th>productId</th>\n",
       "      <th>cityId</th>\n",
       "      <th>price</th>\n",
       "      <th>payMoney</th>\n",
       "      <th>channelId</th>\n",
       "      <th>deviceType</th>\n",
       "      <th>createTime</th>\n",
       "      <th>payTime</th>\n",
       "    </tr>\n",
       "    <tr>\n",
       "      <th>id</th>\n",
       "      <th></th>\n",
       "      <th></th>\n",
       "      <th></th>\n",
       "      <th></th>\n",
       "      <th></th>\n",
       "      <th></th>\n",
       "      <th></th>\n",
       "      <th></th>\n",
       "      <th></th>\n",
       "      <th></th>\n",
       "    </tr>\n",
       "  </thead>\n",
       "  <tbody>\n",
       "    <tr>\n",
       "      <td>19086</td>\n",
       "      <td>284008366</td>\n",
       "      <td>3309847</td>\n",
       "      <td>698</td>\n",
       "      <td>240001</td>\n",
       "      <td>2164.0</td>\n",
       "      <td>2040.0</td>\n",
       "      <td>NaN</td>\n",
       "      <td>2</td>\n",
       "      <td>2016-03-08 22:36:12</td>\n",
       "      <td>2016-03-08 22:36:50</td>\n",
       "    </tr>\n",
       "    <tr>\n",
       "      <td>38175</td>\n",
       "      <td>287706890</td>\n",
       "      <td>2799815</td>\n",
       "      <td>823</td>\n",
       "      <td>70001</td>\n",
       "      <td>760.0</td>\n",
       "      <td>749.0</td>\n",
       "      <td>NaN</td>\n",
       "      <td>3</td>\n",
       "      <td>2016-06-10 22:30:18</td>\n",
       "      <td>2016-06-10 22:30:47</td>\n",
       "    </tr>\n",
       "    <tr>\n",
       "      <td>48073</td>\n",
       "      <td>248057459</td>\n",
       "      <td>3970570</td>\n",
       "      <td>142</td>\n",
       "      <td>130001</td>\n",
       "      <td>474.0</td>\n",
       "      <td>400.0</td>\n",
       "      <td>NaN</td>\n",
       "      <td>2</td>\n",
       "      <td>2016-03-30 12:59:03</td>\n",
       "      <td>2016-03-30 12:59:13</td>\n",
       "    </tr>\n",
       "    <tr>\n",
       "      <td>75949</td>\n",
       "      <td>266847859</td>\n",
       "      <td>3761925</td>\n",
       "      <td>649</td>\n",
       "      <td>120006</td>\n",
       "      <td>257.0</td>\n",
       "      <td>257.0</td>\n",
       "      <td>NaN</td>\n",
       "      <td>2</td>\n",
       "      <td>2016-08-19 08:46:22</td>\n",
       "      <td>2016-08-19 08:46:39</td>\n",
       "    </tr>\n",
       "    <tr>\n",
       "      <td>100952</td>\n",
       "      <td>283627429</td>\n",
       "      <td>4156620</td>\n",
       "      <td>269</td>\n",
       "      <td>280001</td>\n",
       "      <td>484.0</td>\n",
       "      <td>410.0</td>\n",
       "      <td>NaN</td>\n",
       "      <td>2</td>\n",
       "      <td>2016-12-13 13:24:37</td>\n",
       "      <td>2016-12-13 14:47:08</td>\n",
       "    </tr>\n",
       "    <tr>\n",
       "      <td>100953</td>\n",
       "      <td>346836140</td>\n",
       "      <td>3751526</td>\n",
       "      <td>738</td>\n",
       "      <td>100013</td>\n",
       "      <td>105.0</td>\n",
       "      <td>80.0</td>\n",
       "      <td>NaN</td>\n",
       "      <td>1</td>\n",
       "      <td>2016-12-13 13:47:34</td>\n",
       "      <td>2016-12-13 13:47:44</td>\n",
       "    </tr>\n",
       "    <tr>\n",
       "      <td>100954</td>\n",
       "      <td>352853915</td>\n",
       "      <td>2229389</td>\n",
       "      <td>786</td>\n",
       "      <td>240001</td>\n",
       "      <td>474.0</td>\n",
       "      <td>440.0</td>\n",
       "      <td>NaN</td>\n",
       "      <td>2</td>\n",
       "      <td>2016-12-13 16:54:09</td>\n",
       "      <td>2016-12-13 16:55:00</td>\n",
       "    </tr>\n",
       "    <tr>\n",
       "      <td>100955</td>\n",
       "      <td>379473081</td>\n",
       "      <td>4531810</td>\n",
       "      <td>18</td>\n",
       "      <td>180009</td>\n",
       "      <td>146.0</td>\n",
       "      <td>50.0</td>\n",
       "      <td>NaN</td>\n",
       "      <td>3</td>\n",
       "      <td>2016-12-13 20:18:22</td>\n",
       "      <td>2016-12-13 20:18:34</td>\n",
       "    </tr>\n",
       "  </tbody>\n",
       "</table>\n",
       "</div>"
      ],
      "text/plain": [
       "          orderId   userId  productId  cityId   price  payMoney channelId  \\\n",
       "id                                                                          \n",
       "19086   284008366  3309847        698  240001  2164.0    2040.0       NaN   \n",
       "38175   287706890  2799815        823   70001   760.0     749.0       NaN   \n",
       "48073   248057459  3970570        142  130001   474.0     400.0       NaN   \n",
       "75949   266847859  3761925        649  120006   257.0     257.0       NaN   \n",
       "100952  283627429  4156620        269  280001   484.0     410.0       NaN   \n",
       "100953  346836140  3751526        738  100013   105.0      80.0       NaN   \n",
       "100954  352853915  2229389        786  240001   474.0     440.0       NaN   \n",
       "100955  379473081  4531810         18  180009   146.0      50.0       NaN   \n",
       "\n",
       "        deviceType           createTime              payTime  \n",
       "id                                                            \n",
       "19086            2  2016-03-08 22:36:12  2016-03-08 22:36:50  \n",
       "38175            3  2016-06-10 22:30:18  2016-06-10 22:30:47  \n",
       "48073            2  2016-03-30 12:59:03  2016-03-30 12:59:13  \n",
       "75949            2  2016-08-19 08:46:22  2016-08-19 08:46:39  \n",
       "100952           2  2016-12-13 13:24:37  2016-12-13 14:47:08  \n",
       "100953           1  2016-12-13 13:47:34  2016-12-13 13:47:44  \n",
       "100954           2  2016-12-13 16:54:09  2016-12-13 16:55:00  \n",
       "100955           3  2016-12-13 20:18:22  2016-12-13 20:18:34  "
      ]
     },
     "execution_count": 16,
     "metadata": {},
     "output_type": "execute_result"
    }
   ],
   "source": [
    "df[df.channelId.isnull()]"
   ]
  },
  {
   "cell_type": "code",
   "execution_count": 17,
   "metadata": {},
   "outputs": [],
   "source": [
    "df.drop(index=df[df.channelId.isnull()].index, inplace=True)\n"
   ]
  },
  {
   "cell_type": "code",
   "execution_count": 18,
   "metadata": {},
   "outputs": [
    {
     "data": {
      "text/html": [
       "<div>\n",
       "<style scoped>\n",
       "    .dataframe tbody tr th:only-of-type {\n",
       "        vertical-align: middle;\n",
       "    }\n",
       "\n",
       "    .dataframe tbody tr th {\n",
       "        vertical-align: top;\n",
       "    }\n",
       "\n",
       "    .dataframe thead th {\n",
       "        text-align: right;\n",
       "    }\n",
       "</style>\n",
       "<table border=\"1\" class=\"dataframe\">\n",
       "  <thead>\n",
       "    <tr style=\"text-align: right;\">\n",
       "      <th></th>\n",
       "      <th>orderId</th>\n",
       "      <th>userId</th>\n",
       "      <th>productId</th>\n",
       "      <th>cityId</th>\n",
       "      <th>price</th>\n",
       "      <th>payMoney</th>\n",
       "      <th>channelId</th>\n",
       "      <th>deviceType</th>\n",
       "      <th>createTime</th>\n",
       "      <th>payTime</th>\n",
       "    </tr>\n",
       "    <tr>\n",
       "      <th>id</th>\n",
       "      <th></th>\n",
       "      <th></th>\n",
       "      <th></th>\n",
       "      <th></th>\n",
       "      <th></th>\n",
       "      <th></th>\n",
       "      <th></th>\n",
       "      <th></th>\n",
       "      <th></th>\n",
       "      <th></th>\n",
       "    </tr>\n",
       "  </thead>\n",
       "  <tbody>\n",
       "  </tbody>\n",
       "</table>\n",
       "</div>"
      ],
      "text/plain": [
       "Empty DataFrame\n",
       "Columns: [orderId, userId, productId, cityId, price, payMoney, channelId, deviceType, createTime, payTime]\n",
       "Index: []"
      ]
     },
     "execution_count": 18,
     "metadata": {},
     "output_type": "execute_result"
    }
   ],
   "source": [
    "df[df.channelId.isnull()]"
   ]
  },
  {
   "cell_type": "code",
   "execution_count": 19,
   "metadata": {},
   "outputs": [
    {
     "data": {
      "text/plain": [
       "orderId                int64\n",
       "userId                 int64\n",
       "productId              int64\n",
       "cityId                 int64\n",
       "price                float64\n",
       "payMoney             float64\n",
       "channelId             object\n",
       "deviceType             int64\n",
       "createTime    datetime64[ns]\n",
       "payTime       datetime64[ns]\n",
       "dtype: object"
      ]
     },
     "execution_count": 19,
     "metadata": {},
     "output_type": "execute_result"
    }
   ],
   "source": [
    "df.createTime = pd.to_datetime(df.createTime)\n",
    "df.payTime = pd.to_datetime(df.payTime)\n",
    "df.dtypes"
   ]
  },
  {
   "cell_type": "code",
   "execution_count": 20,
   "metadata": {},
   "outputs": [],
   "source": [
    "import datetime"
   ]
  },
  {
   "cell_type": "code",
   "execution_count": 21,
   "metadata": {},
   "outputs": [],
   "source": [
    "startTime = datetime.datetime(2016,1,1)\n",
    "endTime = datetime.datetime(2016,12,31,23,59,59)"
   ]
  },
  {
   "cell_type": "code",
   "execution_count": 22,
   "metadata": {},
   "outputs": [
    {
     "data": {
      "text/html": [
       "<div>\n",
       "<style scoped>\n",
       "    .dataframe tbody tr th:only-of-type {\n",
       "        vertical-align: middle;\n",
       "    }\n",
       "\n",
       "    .dataframe tbody tr th {\n",
       "        vertical-align: top;\n",
       "    }\n",
       "\n",
       "    .dataframe thead th {\n",
       "        text-align: right;\n",
       "    }\n",
       "</style>\n",
       "<table border=\"1\" class=\"dataframe\">\n",
       "  <thead>\n",
       "    <tr style=\"text-align: right;\">\n",
       "      <th></th>\n",
       "      <th>orderId</th>\n",
       "      <th>userId</th>\n",
       "      <th>productId</th>\n",
       "      <th>cityId</th>\n",
       "      <th>price</th>\n",
       "      <th>payMoney</th>\n",
       "      <th>channelId</th>\n",
       "      <th>deviceType</th>\n",
       "      <th>createTime</th>\n",
       "      <th>payTime</th>\n",
       "    </tr>\n",
       "    <tr>\n",
       "      <th>id</th>\n",
       "      <th></th>\n",
       "      <th></th>\n",
       "      <th></th>\n",
       "      <th></th>\n",
       "      <th></th>\n",
       "      <th></th>\n",
       "      <th></th>\n",
       "      <th></th>\n",
       "      <th></th>\n",
       "      <th></th>\n",
       "    </tr>\n",
       "  </thead>\n",
       "  <tbody>\n",
       "  </tbody>\n",
       "</table>\n",
       "</div>"
      ],
      "text/plain": [
       "Empty DataFrame\n",
       "Columns: [orderId, userId, productId, cityId, price, payMoney, channelId, deviceType, createTime, payTime]\n",
       "Index: []"
      ]
     },
     "execution_count": 22,
     "metadata": {},
     "output_type": "execute_result"
    }
   ],
   "source": [
    "df[df.createTime < startTime]\n",
    "df.drop(index=df[df.createTime < startTime].index, inplace=True)\n",
    "df[df.createTime < startTime]"
   ]
  },
  {
   "cell_type": "code",
   "execution_count": 23,
   "metadata": {},
   "outputs": [],
   "source": [
    "df.drop(index=df[df.createTime> df.payTime].index, inplace=True)"
   ]
  },
  {
   "cell_type": "code",
   "execution_count": 24,
   "metadata": {},
   "outputs": [
    {
     "data": {
      "text/html": [
       "<div>\n",
       "<style scoped>\n",
       "    .dataframe tbody tr th:only-of-type {\n",
       "        vertical-align: middle;\n",
       "    }\n",
       "\n",
       "    .dataframe tbody tr th {\n",
       "        vertical-align: top;\n",
       "    }\n",
       "\n",
       "    .dataframe thead th {\n",
       "        text-align: right;\n",
       "    }\n",
       "</style>\n",
       "<table border=\"1\" class=\"dataframe\">\n",
       "  <thead>\n",
       "    <tr style=\"text-align: right;\">\n",
       "      <th></th>\n",
       "      <th>orderId</th>\n",
       "      <th>userId</th>\n",
       "      <th>productId</th>\n",
       "      <th>cityId</th>\n",
       "      <th>price</th>\n",
       "      <th>payMoney</th>\n",
       "      <th>channelId</th>\n",
       "      <th>deviceType</th>\n",
       "      <th>createTime</th>\n",
       "      <th>payTime</th>\n",
       "    </tr>\n",
       "    <tr>\n",
       "      <th>id</th>\n",
       "      <th></th>\n",
       "      <th></th>\n",
       "      <th></th>\n",
       "      <th></th>\n",
       "      <th></th>\n",
       "      <th></th>\n",
       "      <th></th>\n",
       "      <th></th>\n",
       "      <th></th>\n",
       "      <th></th>\n",
       "    </tr>\n",
       "  </thead>\n",
       "  <tbody>\n",
       "  </tbody>\n",
       "</table>\n",
       "</div>"
      ],
      "text/plain": [
       "Empty DataFrame\n",
       "Columns: [orderId, userId, productId, cityId, price, payMoney, channelId, deviceType, createTime, payTime]\n",
       "Index: []"
      ]
     },
     "execution_count": 24,
     "metadata": {},
     "output_type": "execute_result"
    }
   ],
   "source": [
    "df[df.createTime > endTime]"
   ]
  },
  {
   "cell_type": "code",
   "execution_count": 25,
   "metadata": {},
   "outputs": [
    {
     "data": {
      "text/html": [
       "<div>\n",
       "<style scoped>\n",
       "    .dataframe tbody tr th:only-of-type {\n",
       "        vertical-align: middle;\n",
       "    }\n",
       "\n",
       "    .dataframe tbody tr th {\n",
       "        vertical-align: top;\n",
       "    }\n",
       "\n",
       "    .dataframe thead th {\n",
       "        text-align: right;\n",
       "    }\n",
       "</style>\n",
       "<table border=\"1\" class=\"dataframe\">\n",
       "  <thead>\n",
       "    <tr style=\"text-align: right;\">\n",
       "      <th></th>\n",
       "      <th>orderId</th>\n",
       "      <th>userId</th>\n",
       "      <th>productId</th>\n",
       "      <th>cityId</th>\n",
       "      <th>price</th>\n",
       "      <th>payMoney</th>\n",
       "      <th>channelId</th>\n",
       "      <th>deviceType</th>\n",
       "      <th>createTime</th>\n",
       "      <th>payTime</th>\n",
       "    </tr>\n",
       "    <tr>\n",
       "      <th>id</th>\n",
       "      <th></th>\n",
       "      <th></th>\n",
       "      <th></th>\n",
       "      <th></th>\n",
       "      <th></th>\n",
       "      <th></th>\n",
       "      <th></th>\n",
       "      <th></th>\n",
       "      <th></th>\n",
       "      <th></th>\n",
       "    </tr>\n",
       "  </thead>\n",
       "  <tbody>\n",
       "    <tr>\n",
       "      <td>1</td>\n",
       "      <td>232148841</td>\n",
       "      <td>2794924</td>\n",
       "      <td>268</td>\n",
       "      <td>110001</td>\n",
       "      <td>353.0</td>\n",
       "      <td>353.0</td>\n",
       "      <td>9058255c90</td>\n",
       "      <td>3</td>\n",
       "      <td>2016-01-01 12:53:02</td>\n",
       "      <td>2016-01-01 12:53:24</td>\n",
       "    </tr>\n",
       "    <tr>\n",
       "      <td>2</td>\n",
       "      <td>222298971</td>\n",
       "      <td>1664684</td>\n",
       "      <td>801</td>\n",
       "      <td>330001</td>\n",
       "      <td>512.0</td>\n",
       "      <td>499.0</td>\n",
       "      <td>e0e6019897</td>\n",
       "      <td>2</td>\n",
       "      <td>2016-01-01 21:42:51</td>\n",
       "      <td>2016-01-01 21:43:30</td>\n",
       "    </tr>\n",
       "    <tr>\n",
       "      <td>3</td>\n",
       "      <td>211494392</td>\n",
       "      <td>2669372</td>\n",
       "      <td>934</td>\n",
       "      <td>220002</td>\n",
       "      <td>621.0</td>\n",
       "      <td>621.0</td>\n",
       "      <td>9058255c90</td>\n",
       "      <td>3</td>\n",
       "      <td>2016-01-01 14:10:13</td>\n",
       "      <td>2016-01-01 14:11:18</td>\n",
       "    </tr>\n",
       "    <tr>\n",
       "      <td>4</td>\n",
       "      <td>334575272</td>\n",
       "      <td>1924727</td>\n",
       "      <td>422</td>\n",
       "      <td>230001</td>\n",
       "      <td>506.0</td>\n",
       "      <td>420.0</td>\n",
       "      <td>46d5cea30d</td>\n",
       "      <td>2</td>\n",
       "      <td>2016-01-01 17:43:35</td>\n",
       "      <td>2016-01-01 17:43:53</td>\n",
       "    </tr>\n",
       "    <tr>\n",
       "      <td>5</td>\n",
       "      <td>144825651</td>\n",
       "      <td>4148671</td>\n",
       "      <td>473</td>\n",
       "      <td>130006</td>\n",
       "      <td>1491.0</td>\n",
       "      <td>1420.0</td>\n",
       "      <td>6ff1752b69</td>\n",
       "      <td>2</td>\n",
       "      <td>2016-01-01 18:52:04</td>\n",
       "      <td>2016-01-01 18:52:47</td>\n",
       "    </tr>\n",
       "    <tr>\n",
       "      <td>...</td>\n",
       "      <td>...</td>\n",
       "      <td>...</td>\n",
       "      <td>...</td>\n",
       "      <td>...</td>\n",
       "      <td>...</td>\n",
       "      <td>...</td>\n",
       "      <td>...</td>\n",
       "      <td>...</td>\n",
       "      <td>...</td>\n",
       "      <td>...</td>\n",
       "    </tr>\n",
       "    <tr>\n",
       "      <td>104548</td>\n",
       "      <td>298711582</td>\n",
       "      <td>1921881</td>\n",
       "      <td>394</td>\n",
       "      <td>330005</td>\n",
       "      <td>177.0</td>\n",
       "      <td>140.0</td>\n",
       "      <td>41a4e91d29</td>\n",
       "      <td>2</td>\n",
       "      <td>2016-12-31 10:00:34</td>\n",
       "      <td>2016-12-31 10:01:55</td>\n",
       "    </tr>\n",
       "    <tr>\n",
       "      <td>104549</td>\n",
       "      <td>271053466</td>\n",
       "      <td>3463231</td>\n",
       "      <td>533</td>\n",
       "      <td>60005</td>\n",
       "      <td>755.0</td>\n",
       "      <td>720.0</td>\n",
       "      <td>09b7f0541e</td>\n",
       "      <td>4</td>\n",
       "      <td>2016-12-31 02:51:54</td>\n",
       "      <td>2016-12-31 02:52:35</td>\n",
       "    </tr>\n",
       "    <tr>\n",
       "      <td>104550</td>\n",
       "      <td>331281655</td>\n",
       "      <td>3776844</td>\n",
       "      <td>537</td>\n",
       "      <td>60005</td>\n",
       "      <td>498.0</td>\n",
       "      <td>440.0</td>\n",
       "      <td>09b7f0541e</td>\n",
       "      <td>4</td>\n",
       "      <td>2016-12-31 02:52:52</td>\n",
       "      <td>2016-12-31 02:53:29</td>\n",
       "    </tr>\n",
       "    <tr>\n",
       "      <td>104551</td>\n",
       "      <td>256176692</td>\n",
       "      <td>3415519</td>\n",
       "      <td>930</td>\n",
       "      <td>120001</td>\n",
       "      <td>1444.0</td>\n",
       "      <td>1444.0</td>\n",
       "      <td>46d5cea30d</td>\n",
       "      <td>2</td>\n",
       "      <td>2016-12-31 17:35:46</td>\n",
       "      <td>2016-12-31 17:36:20</td>\n",
       "    </tr>\n",
       "    <tr>\n",
       "      <td>104552</td>\n",
       "      <td>331097030</td>\n",
       "      <td>3791354</td>\n",
       "      <td>567</td>\n",
       "      <td>140001</td>\n",
       "      <td>722.0</td>\n",
       "      <td>722.0</td>\n",
       "      <td>d048ad4b64</td>\n",
       "      <td>2</td>\n",
       "      <td>2016-12-31 17:44:21</td>\n",
       "      <td>2016-12-31 17:50:29</td>\n",
       "    </tr>\n",
       "  </tbody>\n",
       "</table>\n",
       "<p>104533 rows × 10 columns</p>\n",
       "</div>"
      ],
      "text/plain": [
       "          orderId   userId  productId  cityId   price  payMoney   channelId  \\\n",
       "id                                                                            \n",
       "1       232148841  2794924        268  110001   353.0     353.0  9058255c90   \n",
       "2       222298971  1664684        801  330001   512.0     499.0  e0e6019897   \n",
       "3       211494392  2669372        934  220002   621.0     621.0  9058255c90   \n",
       "4       334575272  1924727        422  230001   506.0     420.0  46d5cea30d   \n",
       "5       144825651  4148671        473  130006  1491.0    1420.0  6ff1752b69   \n",
       "...           ...      ...        ...     ...     ...       ...         ...   \n",
       "104548  298711582  1921881        394  330005   177.0     140.0  41a4e91d29   \n",
       "104549  271053466  3463231        533   60005   755.0     720.0  09b7f0541e   \n",
       "104550  331281655  3776844        537   60005   498.0     440.0  09b7f0541e   \n",
       "104551  256176692  3415519        930  120001  1444.0    1444.0  46d5cea30d   \n",
       "104552  331097030  3791354        567  140001   722.0     722.0  d048ad4b64   \n",
       "\n",
       "        deviceType          createTime             payTime  \n",
       "id                                                          \n",
       "1                3 2016-01-01 12:53:02 2016-01-01 12:53:24  \n",
       "2                2 2016-01-01 21:42:51 2016-01-01 21:43:30  \n",
       "3                3 2016-01-01 14:10:13 2016-01-01 14:11:18  \n",
       "4                2 2016-01-01 17:43:35 2016-01-01 17:43:53  \n",
       "5                2 2016-01-01 18:52:04 2016-01-01 18:52:47  \n",
       "...            ...                 ...                 ...  \n",
       "104548           2 2016-12-31 10:00:34 2016-12-31 10:01:55  \n",
       "104549           4 2016-12-31 02:51:54 2016-12-31 02:52:35  \n",
       "104550           4 2016-12-31 02:52:52 2016-12-31 02:53:29  \n",
       "104551           2 2016-12-31 17:35:46 2016-12-31 17:36:20  \n",
       "104552           2 2016-12-31 17:44:21 2016-12-31 17:50:29  \n",
       "\n",
       "[104533 rows x 10 columns]"
      ]
     },
     "execution_count": 25,
     "metadata": {},
     "output_type": "execute_result"
    }
   ],
   "source": [
    "df[df.payTime < endTime]"
   ]
  },
  {
   "cell_type": "code",
   "execution_count": 26,
   "metadata": {},
   "outputs": [
    {
     "data": {
      "text/html": [
       "<div>\n",
       "<style scoped>\n",
       "    .dataframe tbody tr th:only-of-type {\n",
       "        vertical-align: middle;\n",
       "    }\n",
       "\n",
       "    .dataframe tbody tr th {\n",
       "        vertical-align: top;\n",
       "    }\n",
       "\n",
       "    .dataframe thead th {\n",
       "        text-align: right;\n",
       "    }\n",
       "</style>\n",
       "<table border=\"1\" class=\"dataframe\">\n",
       "  <thead>\n",
       "    <tr style=\"text-align: right;\">\n",
       "      <th></th>\n",
       "      <th>orderId</th>\n",
       "      <th>userId</th>\n",
       "      <th>productId</th>\n",
       "      <th>cityId</th>\n",
       "      <th>price</th>\n",
       "      <th>payMoney</th>\n",
       "      <th>channelId</th>\n",
       "      <th>deviceType</th>\n",
       "      <th>createTime</th>\n",
       "      <th>payTime</th>\n",
       "    </tr>\n",
       "    <tr>\n",
       "      <th>id</th>\n",
       "      <th></th>\n",
       "      <th></th>\n",
       "      <th></th>\n",
       "      <th></th>\n",
       "      <th></th>\n",
       "      <th></th>\n",
       "      <th></th>\n",
       "      <th></th>\n",
       "      <th></th>\n",
       "      <th></th>\n",
       "    </tr>\n",
       "  </thead>\n",
       "  <tbody>\n",
       "  </tbody>\n",
       "</table>\n",
       "</div>"
      ],
      "text/plain": [
       "Empty DataFrame\n",
       "Columns: [orderId, userId, productId, cityId, price, payMoney, channelId, deviceType, createTime, payTime]\n",
       "Index: []"
      ]
     },
     "execution_count": 26,
     "metadata": {},
     "output_type": "execute_result"
    }
   ],
   "source": [
    "df[df.payTime < startTime]"
   ]
  },
  {
   "cell_type": "code",
   "execution_count": 27,
   "metadata": {},
   "outputs": [
    {
     "data": {
      "text/plain": [
       "104506"
      ]
     },
     "execution_count": 27,
     "metadata": {},
     "output_type": "execute_result"
    }
   ],
   "source": [
    "df.orderId.unique().size"
   ]
  },
  {
   "cell_type": "code",
   "execution_count": 28,
   "metadata": {},
   "outputs": [
    {
     "data": {
      "text/plain": [
       "104533"
      ]
     },
     "execution_count": 28,
     "metadata": {},
     "output_type": "execute_result"
    }
   ],
   "source": [
    "df.orderId.size"
   ]
  },
  {
   "cell_type": "code",
   "execution_count": 29,
   "metadata": {},
   "outputs": [
    {
     "data": {
      "text/plain": [
       "104506"
      ]
     },
     "execution_count": 29,
     "metadata": {},
     "output_type": "execute_result"
    }
   ],
   "source": [
    "df.drop(index=df[df.orderId.duplicated()].index, inplace=True)\n",
    "df.orderId.unique().size"
   ]
  },
  {
   "cell_type": "code",
   "execution_count": 30,
   "metadata": {},
   "outputs": [],
   "source": [
    "df.drop(index=df[df.productId==0].index, inplace=True)"
   ]
  },
  {
   "cell_type": "markdown",
   "metadata": {},
   "source": [
    "数据清洗完就可以开始分析了"
   ]
  },
  {
   "cell_type": "code",
   "execution_count": 31,
   "metadata": {},
   "outputs": [
    {
     "name": "stdout",
     "output_type": "stream",
     "text": [
      "104329\n"
     ]
    }
   ],
   "source": [
    "print(df.orderId.count())"
   ]
  },
  {
   "cell_type": "code",
   "execution_count": 32,
   "metadata": {},
   "outputs": [
    {
     "name": "stdout",
     "output_type": "stream",
     "text": [
      "102447\n"
     ]
    }
   ],
   "source": [
    "print(df.userId.unique().size)"
   ]
  },
  {
   "cell_type": "code",
   "execution_count": 33,
   "metadata": {},
   "outputs": [
    {
     "name": "stdout",
     "output_type": "stream",
     "text": [
      "906663.997\n"
     ]
    }
   ],
   "source": [
    "print(df.payMoney.sum()/100)"
   ]
  },
  {
   "cell_type": "code",
   "execution_count": 34,
   "metadata": {},
   "outputs": [
    {
     "name": "stdout",
     "output_type": "stream",
     "text": [
      "1000\n"
     ]
    }
   ],
   "source": [
    "print(df.productId.unique().size)"
   ]
  },
  {
   "cell_type": "code",
   "execution_count": 37,
   "metadata": {},
   "outputs": [
    {
     "name": "stdout",
     "output_type": "stream",
     "text": [
      "productId\n",
      "895    354\n",
      "762    350\n",
      "103    334\n",
      "587    303\n",
      "385    302\n",
      "60     301\n",
      "38     301\n",
      "403    297\n",
      "345    292\n",
      "823    288\n",
      "Name: orderId, dtype: int64\n",
      "productId\n",
      "948     29\n",
      "856     28\n",
      "621     27\n",
      "272     26\n",
      "563     24\n",
      "347     21\n",
      "597     19\n",
      "468     18\n",
      "986     16\n",
      "1000    13\n",
      "Name: orderId, dtype: int64\n"
     ]
    }
   ],
   "source": [
    "productId_orderCount = df.groupby('productId').count()['orderId'].sort_values(ascending=False)\n",
    "print(productId_orderCount.head(10))\n",
    "print(productId_orderCount.tail(10))"
   ]
  },
  {
   "cell_type": "code",
   "execution_count": 38,
   "metadata": {},
   "outputs": [
    {
     "name": "stdout",
     "output_type": "stream",
     "text": [
      "productId\n",
      "385    427522.1\n",
      "61     361572.0\n",
      "103    344641.2\n",
      "405    339525.0\n",
      "720    322405.1\n",
      "345    320162.2\n",
      "698    318458.6\n",
      "182    296600.0\n",
      "383    280790.0\n",
      "396    269556.0\n",
      "Name: payMoney, dtype: float64\n",
      "productId\n",
      "310     22879.0\n",
      "847     22869.0\n",
      "454     22535.0\n",
      "817     22509.0\n",
      "597     21847.0\n",
      "408     18111.0\n",
      "986     14784.0\n",
      "964     14238.0\n",
      "1000    12169.0\n",
      "347     12070.0\n",
      "Name: payMoney, dtype: float64\n"
     ]
    }
   ],
   "source": [
    "# 销售额\n",
    "productId_turnover = df.groupby('productId').sum()['payMoney'].sort_values(ascending=False)\n",
    "print(productId_turnover.head(10))\n",
    "print(productId_turnover.tail(10))"
   ]
  },
  {
   "cell_type": "code",
   "execution_count": 39,
   "metadata": {},
   "outputs": [
    {
     "data": {
      "text/plain": [
       "Int64Index([  14,  807,  599,  676,    7,  469,  577,  551,  318,  220,  528,\n",
       "             303,  314,  359,  629,  582,  985,  218,  578,  227,  277,  145,\n",
       "             855,  586,  958,   91,  856,  948,  859,  874,  806,  272,  392,\n",
       "              27,  460,  436,  468,  579,  868,  137,   16,  590,  247,  569,\n",
       "             242,  104,  621,  478,  310,  847,  454,  817,  597,  408,  986,\n",
       "             964, 1000,  347],\n",
       "           dtype='int64', name='productId')"
      ]
     },
     "execution_count": 39,
     "metadata": {},
     "output_type": "execute_result"
    }
   ],
   "source": [
    "problem_productIds = productId_turnover.tail(100).index.intersection(productId_orderCount.tail(100).index)\n",
    "problem_productIds"
   ]
  },
  {
   "cell_type": "code",
   "execution_count": 40,
   "metadata": {},
   "outputs": [],
   "source": [
    "# 城市的分析和商品维度类型\n",
    "cityId_orderCount = df.groupby('cityId').count()['orderId'].sort_values(ascending=False)\n",
    "cityId_payMoney = df.groupby('cityId').sum()['payMoney'].sort_values(ascending=False)"
   ]
  },
  {
   "cell_type": "code",
   "execution_count": 41,
   "metadata": {},
   "outputs": [
    {
     "data": {
      "text/plain": [
       "id\n",
       "1           (300, 400]\n",
       "2           (500, 600]\n",
       "3           (600, 700]\n",
       "4           (500, 600]\n",
       "5         (1400, 1500]\n",
       "              ...     \n",
       "104548      (100, 200]\n",
       "104549      (700, 800]\n",
       "104550      (400, 500]\n",
       "104551    (1400, 1500]\n",
       "104552      (700, 800]\n",
       "Name: price, Length: 104329, dtype: category\n",
       "Categories (249, interval[int64]): [(0, 100] < (100, 200] < (200, 300] < (300, 400] ... (24500, 24600] < (24600, 24700] < (24700, 24800] < (24800, 24900]]"
      ]
     },
     "execution_count": 41,
     "metadata": {},
     "output_type": "execute_result"
    }
   ],
   "source": [
    "bins = np.arange(0, 25000, 100)\n",
    "pd.cut(df.price, bins)"
   ]
  },
  {
   "cell_type": "code",
   "execution_count": 42,
   "metadata": {},
   "outputs": [
    {
     "data": {
      "text/plain": [
       "(array([9.9200e+02, 7.0420e+03, 9.9660e+03, 1.0745e+04, 1.4758e+04,\n",
       "        9.2490e+03, 8.7730e+03, 7.1320e+03, 2.8580e+03, 3.2110e+03,\n",
       "        4.7370e+03, 1.8420e+03, 1.1770e+03, 1.8600e+03, 1.6440e+03,\n",
       "        5.8700e+02, 1.7750e+03, 2.2170e+03, 6.6800e+02, 1.8000e+03,\n",
       "        2.8160e+03, 6.4000e+02, 2.8400e+02, 2.8200e+02, 4.7200e+02,\n",
       "        1.9600e+02, 7.0300e+02, 8.2200e+02, 1.8300e+02, 7.3400e+02,\n",
       "        1.1970e+03, 2.5600e+02, 1.0300e+02, 1.2000e+02, 1.0700e+02,\n",
       "        4.1000e+01, 1.0600e+02, 2.1400e+02, 9.0000e+01, 3.6000e+02,\n",
       "        5.0700e+02, 9.9000e+01, 6.8000e+01, 2.4000e+01, 3.0000e+01,\n",
       "        1.2000e+01, 5.2000e+01, 4.5000e+01, 1.5000e+01, 6.6000e+01,\n",
       "        1.5300e+02, 5.0000e+01, 1.6000e+01, 2.2000e+01, 1.7000e+01,\n",
       "        1.0000e+00, 2.2000e+01, 1.0000e+01, 1.0000e+01, 4.0000e+01,\n",
       "        4.8000e+01, 1.6000e+01, 7.0000e+00, 1.1000e+01, 2.0000e+00,\n",
       "        6.0000e+00, 3.0000e+00, 4.7000e+01, 6.0000e+00, 2.8000e+01,\n",
       "        3.2000e+01, 6.0000e+00, 3.0000e+00, 0.0000e+00, 0.0000e+00,\n",
       "        1.0000e+00, 1.0000e+00, 0.0000e+00, 6.0000e+00, 9.0000e+00,\n",
       "        1.1000e+01, 1.0000e+00, 0.0000e+00, 0.0000e+00, 0.0000e+00,\n",
       "        0.0000e+00, 1.0000e+00, 1.0000e+00, 0.0000e+00, 1.6000e+01,\n",
       "        1.1000e+01, 8.0000e+00, 3.0000e+00, 0.0000e+00, 0.0000e+00,\n",
       "        0.0000e+00, 0.0000e+00, 0.0000e+00, 0.0000e+00, 2.0000e+00,\n",
       "        1.1000e+01, 1.0000e+00, 0.0000e+00, 0.0000e+00, 0.0000e+00,\n",
       "        0.0000e+00, 0.0000e+00, 0.0000e+00, 0.0000e+00, 1.0000e+00,\n",
       "        4.0000e+00, 0.0000e+00, 0.0000e+00, 0.0000e+00, 0.0000e+00,\n",
       "        0.0000e+00, 0.0000e+00, 0.0000e+00, 0.0000e+00, 0.0000e+00,\n",
       "        0.0000e+00, 0.0000e+00, 0.0000e+00, 0.0000e+00, 0.0000e+00,\n",
       "        0.0000e+00, 0.0000e+00, 1.0000e+00, 0.0000e+00, 0.0000e+00,\n",
       "        2.0000e+00, 0.0000e+00, 1.0000e+00, 0.0000e+00, 0.0000e+00,\n",
       "        0.0000e+00, 0.0000e+00, 0.0000e+00, 0.0000e+00, 1.0000e+00,\n",
       "        0.0000e+00, 0.0000e+00, 0.0000e+00, 0.0000e+00, 0.0000e+00,\n",
       "        0.0000e+00, 0.0000e+00, 0.0000e+00, 0.0000e+00, 0.0000e+00,\n",
       "        0.0000e+00, 0.0000e+00, 0.0000e+00, 0.0000e+00, 0.0000e+00,\n",
       "        0.0000e+00, 0.0000e+00, 0.0000e+00, 0.0000e+00, 0.0000e+00,\n",
       "        0.0000e+00, 0.0000e+00, 0.0000e+00, 0.0000e+00, 0.0000e+00,\n",
       "        0.0000e+00, 0.0000e+00, 0.0000e+00, 0.0000e+00, 0.0000e+00,\n",
       "        0.0000e+00, 0.0000e+00, 0.0000e+00, 0.0000e+00, 0.0000e+00,\n",
       "        0.0000e+00, 0.0000e+00, 0.0000e+00, 0.0000e+00, 0.0000e+00,\n",
       "        0.0000e+00, 0.0000e+00, 0.0000e+00, 0.0000e+00, 0.0000e+00,\n",
       "        0.0000e+00, 0.0000e+00, 0.0000e+00, 0.0000e+00, 1.0000e+00,\n",
       "        0.0000e+00, 0.0000e+00, 0.0000e+00, 0.0000e+00, 0.0000e+00,\n",
       "        0.0000e+00, 0.0000e+00, 0.0000e+00, 0.0000e+00, 0.0000e+00,\n",
       "        0.0000e+00, 0.0000e+00, 0.0000e+00, 0.0000e+00, 0.0000e+00,\n",
       "        0.0000e+00, 0.0000e+00, 0.0000e+00, 0.0000e+00, 0.0000e+00,\n",
       "        0.0000e+00, 0.0000e+00, 0.0000e+00, 0.0000e+00, 0.0000e+00,\n",
       "        0.0000e+00, 0.0000e+00, 0.0000e+00, 0.0000e+00, 0.0000e+00,\n",
       "        0.0000e+00, 0.0000e+00, 0.0000e+00, 0.0000e+00, 0.0000e+00,\n",
       "        0.0000e+00, 0.0000e+00, 0.0000e+00, 0.0000e+00, 2.0000e+00,\n",
       "        0.0000e+00, 0.0000e+00, 0.0000e+00, 0.0000e+00, 0.0000e+00,\n",
       "        0.0000e+00, 0.0000e+00, 0.0000e+00, 0.0000e+00, 0.0000e+00,\n",
       "        0.0000e+00, 0.0000e+00, 0.0000e+00, 0.0000e+00, 0.0000e+00,\n",
       "        0.0000e+00, 0.0000e+00, 0.0000e+00, 0.0000e+00]),\n",
       " array([    0,   100,   200,   300,   400,   500,   600,   700,   800,\n",
       "          900,  1000,  1100,  1200,  1300,  1400,  1500,  1600,  1700,\n",
       "         1800,  1900,  2000,  2100,  2200,  2300,  2400,  2500,  2600,\n",
       "         2700,  2800,  2900,  3000,  3100,  3200,  3300,  3400,  3500,\n",
       "         3600,  3700,  3800,  3900,  4000,  4100,  4200,  4300,  4400,\n",
       "         4500,  4600,  4700,  4800,  4900,  5000,  5100,  5200,  5300,\n",
       "         5400,  5500,  5600,  5700,  5800,  5900,  6000,  6100,  6200,\n",
       "         6300,  6400,  6500,  6600,  6700,  6800,  6900,  7000,  7100,\n",
       "         7200,  7300,  7400,  7500,  7600,  7700,  7800,  7900,  8000,\n",
       "         8100,  8200,  8300,  8400,  8500,  8600,  8700,  8800,  8900,\n",
       "         9000,  9100,  9200,  9300,  9400,  9500,  9600,  9700,  9800,\n",
       "         9900, 10000, 10100, 10200, 10300, 10400, 10500, 10600, 10700,\n",
       "        10800, 10900, 11000, 11100, 11200, 11300, 11400, 11500, 11600,\n",
       "        11700, 11800, 11900, 12000, 12100, 12200, 12300, 12400, 12500,\n",
       "        12600, 12700, 12800, 12900, 13000, 13100, 13200, 13300, 13400,\n",
       "        13500, 13600, 13700, 13800, 13900, 14000, 14100, 14200, 14300,\n",
       "        14400, 14500, 14600, 14700, 14800, 14900, 15000, 15100, 15200,\n",
       "        15300, 15400, 15500, 15600, 15700, 15800, 15900, 16000, 16100,\n",
       "        16200, 16300, 16400, 16500, 16600, 16700, 16800, 16900, 17000,\n",
       "        17100, 17200, 17300, 17400, 17500, 17600, 17700, 17800, 17900,\n",
       "        18000, 18100, 18200, 18300, 18400, 18500, 18600, 18700, 18800,\n",
       "        18900, 19000, 19100, 19200, 19300, 19400, 19500, 19600, 19700,\n",
       "        19800, 19900, 20000, 20100, 20200, 20300, 20400, 20500, 20600,\n",
       "        20700, 20800, 20900, 21000, 21100, 21200, 21300, 21400, 21500,\n",
       "        21600, 21700, 21800, 21900, 22000, 22100, 22200, 22300, 22400,\n",
       "        22500, 22600, 22700, 22800, 22900, 23000, 23100, 23200, 23300,\n",
       "        23400, 23500, 23600, 23700, 23800, 23900, 24000, 24100, 24200,\n",
       "        24300, 24400, 24500, 24600, 24700, 24800, 24900]),\n",
       " <a list of 249 Patch objects>)"
      ]
     },
     "execution_count": 42,
     "metadata": {},
     "output_type": "execute_result"
    },
    {
     "data": {
      "image/png": "[encoded data removed]",
      "text/plain": [
       "<Figure size 1152x1152 with 1 Axes>"
      ]
     },
     "metadata": {
      "needs_background": "light"
     },
     "output_type": "display_data"
    }
   ],
   "source": [
    "plt.figure(figsize=(16,16))\n",
    "plt.hist(df['price'], bins)"
   ]
  },
  {
   "cell_type": "code",
   "execution_count": 43,
   "metadata": {},
   "outputs": [
    {
     "data": {
      "text/plain": [
       "CategoricalIndex([(11300, 11400], (10800, 10900], (10600, 10700],\n",
       "                  (10700, 10800], (11800, 11900], (10500, 10600],\n",
       "                  (11700, 11800], (11400, 11500], (11100, 11200],\n",
       "                  (11200, 11300],\n",
       "                  ...\n",
       "                  (16600, 16700], (16500, 16600], (16400, 16500],\n",
       "                  (16300, 16400], (16200, 16300], (16100, 16200],\n",
       "                  (16000, 16100], (15900, 16000], (15800, 15900],\n",
       "                  (12400, 12500]],\n",
       "                 categories=[(0, 100], (100, 200], (200, 300], (300, 400], (400, 500], (500, 600], (600, 700], (700, 800], ...], ordered=True, dtype='category', length=153)"
      ]
     },
     "execution_count": 43,
     "metadata": {},
     "output_type": "execute_result"
    }
   ],
   "source": [
    "price_cut_count  = pd.cut(df.price, bins).value_counts()\n",
    "zero_cut_result = (price_cut_count == 0)\n",
    "zero_cut_result[zero_cut_result.values].index"
   ]
  },
  {
   "cell_type": "code",
   "execution_count": 45,
   "metadata": {},
   "outputs": [
    {
     "data": {
      "image/png": "[encoded data removed]",
      "text/plain": [
       "<Figure size 432x288 with 1 Axes>"
      ]
     },
     "metadata": {},
     "output_type": "display_data"
    }
   ],
   "source": [
    "bins = np.arange(0, 25000, 1000)\n",
    "price_cut = pd.cut(df.price, bins).value_counts()\n",
    "m = plt.pie(x = price_cut.values, labels=price_cut.index, autopct='%d%%', shadow=True)"
   ]
  },
  {
   "cell_type": "code",
   "execution_count": 46,
   "metadata": {},
   "outputs": [
    {
     "data": {
      "text/plain": [
       "<matplotlib.axes._subplots.AxesSubplot at 0x1954c52fa08>"
      ]
     },
     "execution_count": 46,
     "metadata": {},
     "output_type": "execute_result"
    },
    {
     "data": {
      "image/png": "[encoded data removed]",
      "text/plain": [
       "<Figure size 432x288 with 1 Axes>"
      ]
     },
     "metadata": {
      "needs_background": "light"
     },
     "output_type": "display_data"
    }
   ],
   "source": [
    "df['orderHour'] = df.createTime.dt.hour\n",
    "df.groupby('orderHour').count()['orderId'].plot()"
   ]
  },
  {
   "cell_type": "code",
   "execution_count": 47,
   "metadata": {},
   "outputs": [
    {
     "data": {
      "text/plain": [
       "orderWeek\n",
       "0    12503\n",
       "1    12484\n",
       "2    12932\n",
       "3    13794\n",
       "4    16198\n",
       "5    19496\n",
       "6    16922\n",
       "Name: orderId, dtype: int64"
      ]
     },
     "execution_count": 47,
     "metadata": {},
     "output_type": "execute_result"
    }
   ],
   "source": [
    "df['orderWeek'] = df.createTime.dt.dayofweek\n",
    "df.groupby('orderWeek').count()['orderId']"
   ]
  },
  {
   "cell_type": "code",
   "execution_count": 49,
   "metadata": {},
   "outputs": [],
   "source": [
    "def get_seconds(x):\n",
    "    return x.total_seconds()\n",
    "df['payDelta'] = (df['payTime'] - df['createTime']).apply(get_seconds)"
   ]
  },
  {
   "cell_type": "code",
   "execution_count": 50,
   "metadata": {},
   "outputs": [
    {
     "data": {
      "text/plain": [
       "(0, 50]            79229\n",
       "(100, 1000]        12899\n",
       "(50, 100]          10674\n",
       "(1000, 10000]        968\n",
       "(10000, 100000]      231\n",
       "Name: payDelta, dtype: int64"
      ]
     },
     "execution_count": 50,
     "metadata": {},
     "output_type": "execute_result"
    }
   ],
   "source": [
    "bins = [0, 50, 100, 1000, 10000, 100000]\n",
    "pd.cut(df.payDelta, bins).value_counts()"
   ]
  },
  {
   "cell_type": "code",
   "execution_count": 51,
   "metadata": {},
   "outputs": [
    {
     "data": {
      "text/plain": [
       "<matplotlib.axes._subplots.AxesSubplot at 0x1954d913b48>"
      ]
     },
     "execution_count": 51,
     "metadata": {},
     "output_type": "execute_result"
    },
    {
     "data": {
      "image/png": "[encoded data removed]",
      "text/plain": [
       "<Figure size 720x720 with 1 Axes>"
      ]
     },
     "metadata": {},
     "output_type": "display_data"
    }
   ],
   "source": [
    "pd.cut(df.payDelta, bins).value_counts().plot(kind='pie', autopct='%d%%', shadow=True, figsize=(10, 10))"
   ]
  },
  {
   "cell_type": "code",
   "execution_count": 52,
   "metadata": {},
   "outputs": [
    {
     "data": {
      "text/plain": [
       "<matplotlib.axes._subplots.AxesSubplot at 0x1954d89b588>"
      ]
     },
     "execution_count": 52,
     "metadata": {},
     "output_type": "execute_result"
    },
    {
     "data": {
      "image/png": "[encoded data removed]",
      "text/plain": [
       "<Figure size 432x288 with 1 Axes>"
      ]
     },
     "metadata": {
      "needs_background": "light"
     },
     "output_type": "display_data"
    }
   ],
   "source": [
    "df.set_index('createTime', inplace=True)\n",
    "turnover = df.resample('M').sum()['payMoney']\n",
    "order_count = df.resample('M').count()['orderId']\n",
    "\n",
    "turnover.plot()"
   ]
  },
  {
   "cell_type": "code",
   "execution_count": null,
   "metadata": {},
   "outputs": [],
   "source": []
  }
 ],
 "metadata": {
  "kernelspec": {
   "display_name": "Python 3",
   "language": "python",
   "name": "python3"
  },
  "language_info": {
   "codemirror_mode": {
    "name": "ipython",
    "version": 3
   },
   "file_extension": ".py",
   "mimetype": "text/x-python",
   "name": "python",
   "nbconvert_exporter": "python",
   "pygments_lexer": "ipython3",
   "version": "3.7.4"
  }
 },
 "nbformat": 4,
 "nbformat_minor": 2
}
